{
  "cells": [
    {
      "cell_type": "markdown",
      "metadata": {
        "id": "view-in-github",
        "colab_type": "text"
      },
      "source": [
        "<a href=\"https://colab.research.google.com/github/rhsrex/STATISTICS/blob/main/4_2_%ED%8C%8C%EC%9D%B4%EC%8D%AC_%EC%A0%9C%EC%96%B4%EB%AC%B8%EA%B3%BC_%ED%95%A8%EC%88%98.ipynb\" target=\"_parent\"><img src=\"https://colab.research.google.com/assets/colab-badge.svg\" alt=\"Open In Colab\"/></a>"
      ]
    },
    {
      "cell_type": "markdown",
      "metadata": {
        "id": "I7UpmSbgo5qJ"
      },
      "source": [
        "## 조건문\n",
        "### if\n",
        "* https://docs.python.org/ko/3/tutorial/controlflow.html#if-statements"
      ]
    },
    {
      "cell_type": "code",
      "execution_count": null,
      "metadata": {
        "id": "1g6qXjnJo5qK",
        "colab": {
          "base_uri": "https://localhost:8080/"
        },
        "outputId": "4992ef16-46f8-441c-fdbc-fab4d49f2ab1"
      },
      "outputs": [
        {
          "output_type": "stream",
          "name": "stdout",
          "text": [
            "Please enter an integer: 0\n",
            "영\n"
          ]
        }
      ],
      "source": [
        "# 숫자를 입력받아 음수와 양수 여부를 출력합니다.\n",
        "x = int(input(\"Please enter an integer: \"))\n",
        "if x > 0 :\n",
        "    print(\"양수\")\n",
        "elif x == 0 :\n",
        "    print(\"영\")\n",
        "else:\n",
        "    print(\"음수\")"
      ]
    },
    {
      "cell_type": "markdown",
      "metadata": {
        "id": "MBMIHAyJo5qL"
      },
      "source": [
        "## 반복문\n",
        "### for\n",
        "* https://docs.python.org/ko/3/tutorial/controlflow.html#for-statements"
      ]
    },
    {
      "cell_type": "code",
      "execution_count": null,
      "metadata": {
        "id": "ePh8gdIjo5qL",
        "colab": {
          "base_uri": "https://localhost:8080/"
        },
        "outputId": "32da6f0b-d541-4105-812f-7d5c7cc10966"
      },
      "outputs": [
        {
          "output_type": "stream",
          "name": "stdout",
          "text": [
            "배추\n",
            "무\n",
            "토마토\n",
            "사과\n"
          ]
        }
      ],
      "source": [
        "# 리스트 안에 있는 값을 순회하며 반복문으로 출력해 보세요.\n",
        "words = ['배추', '무', '토마토', '사과']\n",
        "for w in words :\n",
        "    print(w)"
      ]
    },
    {
      "cell_type": "markdown",
      "metadata": {
        "id": "sonbyYILo5qL"
      },
      "source": [
        "### range() 함수\n",
        "* https://docs.python.org/ko/3/tutorial/controlflow.html#the-range-function"
      ]
    },
    {
      "cell_type": "code",
      "execution_count": null,
      "metadata": {
        "id": "W1urCcEvo5qL",
        "colab": {
          "base_uri": "https://localhost:8080/"
        },
        "outputId": "a6da6c5e-c530-4729-e581-7a6785a5c781"
      },
      "outputs": [
        {
          "output_type": "execute_result",
          "data": {
            "text/plain": [
              "[0, 1, 2, 3, 4]"
            ]
          },
          "metadata": {},
          "execution_count": 15
        }
      ],
      "source": [
        "# range로 범위를 지정해 반복문을 수행할 수 있습니다.\n",
        "list(range(5))"
      ]
    },
    {
      "cell_type": "code",
      "source": [
        "for i in range(5):\n",
        "    print(i)"
      ],
      "metadata": {
        "colab": {
          "base_uri": "https://localhost:8080/"
        },
        "id": "z6YBMNca6c5Q",
        "outputId": "e78cc438-8dd0-4a0b-db66-87bcbc1f117a"
      },
      "execution_count": null,
      "outputs": [
        {
          "output_type": "stream",
          "name": "stdout",
          "text": [
            "0\n",
            "1\n",
            "2\n",
            "3\n",
            "4\n"
          ]
        }
      ]
    },
    {
      "cell_type": "code",
      "execution_count": null,
      "metadata": {
        "id": "vllVzSezo5qL",
        "colab": {
          "base_uri": "https://localhost:8080/"
        },
        "outputId": "0458b9ac-c713-46d6-ecb5-0037c114e491"
      },
      "outputs": [
        {
          "output_type": "stream",
          "name": "stdout",
          "text": [
            "i: 0 ,a[i]: Mary\n",
            "i: 1 ,a[i]: had\n",
            "i: 2 ,a[i]: a\n",
            "i: 3 ,a[i]: little\n",
            "i: 4 ,a[i]: lamb\n"
          ]
        }
      ],
      "source": [
        "# 리스트를 변수로 받아 순회할 수도 있지만 리스트의 길이만큼 range 값을 생성하여 순회할 수도 있습니다.\n",
        "a = ['Mary', 'had', 'a', 'little', 'lamb']\n",
        "for i in range(len(a)):\n",
        "    print(\"i:\", i, \",a[i]:\", a[i])"
      ]
    },
    {
      "cell_type": "code",
      "execution_count": null,
      "metadata": {
        "id": "KBLeec4Ro5qL",
        "colab": {
          "base_uri": "https://localhost:8080/"
        },
        "outputId": "a9ebcb24-c84d-4b75-8c44-df0c027e5561"
      },
      "outputs": [
        {
          "output_type": "stream",
          "name": "stdout",
          "text": [
            "0 Mary\n",
            "1 had\n",
            "2 a\n",
            "3 little\n",
            "4 lamb\n"
          ]
        }
      ],
      "source": [
        "# enumerate 를 사용하면 인덱스 번호와 값을 함께 가져올 수 있습니다.\n",
        "for i, val in enumerate(a):\n",
        "    print(i, val)"
      ]
    },
    {
      "cell_type": "markdown",
      "metadata": {
        "id": "gt4gXZhzo5qL"
      },
      "source": [
        "### range 응용"
      ]
    },
    {
      "cell_type": "code",
      "execution_count": null,
      "metadata": {
        "id": "HYDvFcIJo5qL",
        "colab": {
          "base_uri": "https://localhost:8080/"
        },
        "outputId": "496b58c7-0e8d-4957-95cf-9e4dcaa695d9"
      },
      "outputs": [
        {
          "output_type": "execute_result",
          "data": {
            "text/plain": [
              "[0, 1, 2, 3]"
            ]
          },
          "metadata": {},
          "execution_count": 23
        }
      ],
      "source": [
        "# 합계 구하기\n",
        "# 0 + 1 + 2 + 3 를 range와 sum을 사용해 구합니다.\n",
        "list(range(4))"
      ]
    },
    {
      "cell_type": "code",
      "source": [
        "sum(range(4))"
      ],
      "metadata": {
        "colab": {
          "base_uri": "https://localhost:8080/"
        },
        "id": "u6aXAIq77EmE",
        "outputId": "d4ab8fcd-cffb-4499-cd39-3ad29ef512e7"
      },
      "execution_count": null,
      "outputs": [
        {
          "output_type": "execute_result",
          "data": {
            "text/plain": [
              "6"
            ]
          },
          "metadata": {},
          "execution_count": 24
        }
      ]
    },
    {
      "cell_type": "code",
      "execution_count": null,
      "metadata": {
        "id": "QX_L5VXPo5qL",
        "colab": {
          "base_uri": "https://localhost:8080/"
        },
        "outputId": "540501d9-5afb-49bb-dce1-48f23809a621"
      },
      "outputs": [
        {
          "output_type": "execute_result",
          "data": {
            "text/plain": [
              "[0, 1, 2, 3]"
            ]
          },
          "metadata": {},
          "execution_count": 25
        }
      ],
      "source": [
        "# 리스트로 만들기\n",
        "# list를 사용해 [0, 1, 2, 3] 리스트를 생성합니다.\n",
        "list(range(4))"
      ]
    },
    {
      "cell_type": "markdown",
      "metadata": {
        "id": "xPmCD7Qfo5qM"
      },
      "source": [
        "### 조건문과 반복문 함께 사용하기"
      ]
    },
    {
      "cell_type": "code",
      "execution_count": null,
      "metadata": {
        "id": "0VEnUddNo5qM",
        "colab": {
          "base_uri": "https://localhost:8080/"
        },
        "outputId": "e575325f-75ac-42e1-bc91-058d87058ba4"
      },
      "outputs": [
        {
          "output_type": "stream",
          "name": "stdout",
          "text": [
            "홀수\n",
            "짝수\n",
            "홀수\n",
            "짝수\n",
            "홀수\n",
            "짝수\n",
            "홀수\n",
            "짝수\n",
            "홀수\n",
            "짝수\n"
          ]
        }
      ],
      "source": [
        "# range로 값을 순회하며 짝수일 때는 \"짝수\"를 홀수일 때는 \"홀수\"를 출력하게 합니다.\n",
        "for i in range(1,11):\n",
        "    if i % 2 == 0:\n",
        "        print(\"짝수\")\n",
        "    else:\n",
        "        print(\"홀수\")"
      ]
    },
    {
      "cell_type": "markdown",
      "metadata": {
        "id": "uZVK9ppho5qM"
      },
      "source": [
        "### While 문\n",
        "* 조건문이 참인 동안 순회하며 실행되기 때문에 특정 조건까지 반복문을 수행하고자 할때 사용합니다.\n",
        "* 예를 들어 특정 웹페이지를 순회한다면 내용이 없을 때까지 순회하라는 반복문을 구현할 수 있습니다."
      ]
    },
    {
      "cell_type": "code",
      "execution_count": null,
      "metadata": {
        "id": "GmBCwuEbo5qM",
        "colab": {
          "base_uri": "https://localhost:8080/"
        },
        "outputId": "0f9bca2d-164f-461f-a439-b2f3942730ec"
      },
      "outputs": [
        {
          "output_type": "stream",
          "name": "stdout",
          "text": [
            "1\n",
            "2\n",
            "3\n",
            "4\n",
            "5\n",
            "6\n",
            "7\n",
            "8\n",
            "9\n",
            "10\n"
          ]
        }
      ],
      "source": [
        "# 변수의 초깃값을 부여하고 특정 변수값이 되면 종료하도록 합니다.\n",
        "변수 = 0\n",
        "while True:\n",
        "    변수 = 변수 + 1\n",
        "    print(변수)\n",
        "    if 변수 >= 10:\n",
        "        break"
      ]
    },
    {
      "cell_type": "markdown",
      "metadata": {
        "id": "lO3A_6IQo5qM"
      },
      "source": [
        "## 함수\n",
        "* https://docs.python.org/ko/3/tutorial/controlflow.html#defining-functions"
      ]
    },
    {
      "cell_type": "code",
      "execution_count": null,
      "metadata": {
        "id": "cWxAjvdao5qM"
      },
      "outputs": [],
      "source": [
        "# 평균을 구하는 average 라는 이름을 갖는 함수를 만들어 보세요.\n",
        "\n",
        "# def == define\n",
        "def average(data):\n",
        "    \"\"\"리스트의 값을 받아 평균을 구하는 함수\"\"\"\n",
        "    avg = sum(data) / len(data)\n",
        "    return avg"
      ]
    },
    {
      "cell_type": "code",
      "execution_count": null,
      "metadata": {
        "id": "JJz_L1Wfo5qM",
        "colab": {
          "base_uri": "https://localhost:8080/"
        },
        "outputId": "db4797d5-e604-46dc-9934-810342da22d3"
      },
      "outputs": [
        {
          "output_type": "execute_result",
          "data": {
            "text/plain": [
              "5.5"
            ]
          },
          "metadata": {},
          "execution_count": 31
        }
      ],
      "source": [
        "# 함수가 잘 만들어졌는지 확인합니다.\n",
        "data = range(1,11)\n",
        "average (data)"
      ]
    },
    {
      "cell_type": "code",
      "source": [
        "# ? 도움말을 볼 수 있습니다.\n",
        "# ?? 소스코드를 볼 수 있습니다.\n",
        "average??"
      ],
      "metadata": {
        "id": "TlUp8I4K99ao"
      },
      "execution_count": null,
      "outputs": []
    },
    {
      "cell_type": "code",
      "source": [
        "sum??"
      ],
      "metadata": {
        "id": "qQmZGeK0_luP"
      },
      "execution_count": null,
      "outputs": []
    },
    {
      "cell_type": "markdown",
      "metadata": {
        "id": "xBg-sRVto5qM"
      },
      "source": [
        "### sum 함수 for 문으로 직접 구현해 보기"
      ]
    },
    {
      "cell_type": "code",
      "execution_count": null,
      "metadata": {
        "id": "UUdHInW0o5qM"
      },
      "outputs": [],
      "source": [
        "# 함수명은 total_sum 으로 매개변수는 num 이 되도록 구현합니다.\n",
        "def total_sum(num):\n",
        "    total = 0\n",
        "    for i in num:\n",
        "        total = total + i\n",
        "    return total"
      ]
    },
    {
      "cell_type": "code",
      "execution_count": null,
      "metadata": {
        "id": "r1GyMm9to5qM",
        "colab": {
          "base_uri": "https://localhost:8080/"
        },
        "outputId": "001c1bb2-23ec-46b9-9709-6848705cf156"
      },
      "outputs": [
        {
          "output_type": "stream",
          "name": "stdout",
          "text": [
            "[1, 2, 3, 4, 5, 6, 7, 8, 9, 10]\n"
          ]
        },
        {
          "output_type": "execute_result",
          "data": {
            "text/plain": [
              "55"
            ]
          },
          "metadata": {},
          "execution_count": 44
        }
      ],
      "source": [
        "# 함수가 잘 만들어졌는지 확인합니다.\n",
        "num = range(1,11)\n",
        "print(list(num))\n",
        "total_sum(num)"
      ]
    },
    {
      "cell_type": "code",
      "execution_count": null,
      "metadata": {
        "id": "jwzFz9-uo5qM",
        "colab": {
          "base_uri": "https://localhost:8080/"
        },
        "outputId": "e0b8d686-f6aa-4682-99e4-5e6045f844c1"
      },
      "outputs": [
        {
          "output_type": "execute_result",
          "data": {
            "text/plain": [
              "55"
            ]
          },
          "metadata": {},
          "execution_count": 45
        }
      ],
      "source": [
        "sum(num)"
      ]
    },
    {
      "cell_type": "code",
      "source": [],
      "metadata": {
        "id": "pnRtLu3IAWl3"
      },
      "execution_count": null,
      "outputs": []
    }
  ],
  "metadata": {
    "colab": {
      "collapsed_sections": [
        "thxfIvC6u4Ga",
        "tMKs81M3sQ9e",
        "uQ0VMYAbu4Gi",
        "ZYBqz3-MsQ94",
        "-mqoFD_Bu4Gv",
        "x4H0bcnisQ-F",
        "Axqztu27sQ-N",
        "Cc2lnQWmsQ-U",
        "AAv0qz8gsQ-o",
        "uzFfT5GTu4Js"
      ],
      "provenance": [],
      "include_colab_link": true
    },
    "kernelspec": {
      "display_name": "Python 3",
      "language": "python",
      "name": "python3"
    },
    "language_info": {
      "codemirror_mode": {
        "name": "ipython",
        "version": 3
      },
      "file_extension": ".py",
      "mimetype": "text/x-python",
      "name": "python",
      "nbconvert_exporter": "python",
      "pygments_lexer": "ipython3",
      "version": "3.7.6"
    },
    "toc": {
      "base_numbering": 1,
      "nav_menu": {},
      "number_sections": true,
      "sideBar": true,
      "skip_h1_title": false,
      "title_cell": "Table of Contents",
      "title_sidebar": "Contents",
      "toc_cell": false,
      "toc_position": {},
      "toc_section_display": true,
      "toc_window_display": false
    },
    "varInspector": {
      "cols": {
        "lenName": 16,
        "lenType": 16,
        "lenVar": 40
      },
      "kernels_config": {
        "python": {
          "delete_cmd_postfix": "",
          "delete_cmd_prefix": "del ",
          "library": "var_list.py",
          "varRefreshCmd": "print(var_dic_list())"
        },
        "r": {
          "delete_cmd_postfix": ") ",
          "delete_cmd_prefix": "rm(",
          "library": "var_list.r",
          "varRefreshCmd": "cat(var_dic_list()) "
        }
      },
      "types_to_exclude": [
        "module",
        "function",
        "builtin_function_or_method",
        "instance",
        "_Feature"
      ],
      "window_display": false
    }
  },
  "nbformat": 4,
  "nbformat_minor": 0
}